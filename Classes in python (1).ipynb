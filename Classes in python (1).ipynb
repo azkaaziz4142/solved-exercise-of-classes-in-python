{
 "cells": [
  {
   "cell_type": "code",
   "execution_count": 3,
   "id": "005c94ea-002b-4ecb-944c-ed273cde2cab",
   "metadata": {},
   "outputs": [
    {
     "name": "stdout",
     "output_type": "stream",
     "text": [
      "Circle area: 78.53981633974483\n",
      "Rectangle area: 28\n",
      "Triangle area: 9.0\n"
     ]
    }
   ],
   "source": [
    "#question9\n",
    "import math\n",
    "class Shape:\n",
    "    def calculate_area(self):\n",
    "        raise NotImplementedError(\"Subclasses must implement this method\")\n",
    "class Circle(Shape):\n",
    "    def __init__(self, radius):\n",
    "        self.radius = radius\n",
    "\n",
    "    def calculate_area(self):\n",
    "        return math.pi * self.radius ** 2\n",
    "class Rectangle(Shape):\n",
    "    def __init__(self, width, height):\n",
    "        self.width = width\n",
    "        self.height = height\n",
    "\n",
    "    def calculate_area(self):\n",
    "        return self.width * self.height\n",
    "\n",
    "class Triangle(Shape):\n",
    "    def __init__(self, base, height):\n",
    "        self.base = base\n",
    "        self.height = height\n",
    "\n",
    "    def calculate_area(self):\n",
    "        return 0.5 * self.base * self.height\n",
    "if __name__ == \"__main__\":\n",
    "    circle = Circle(5)\n",
    "    print(f\"Circle area: {circle.calculate_area()}\")\n",
    "\n",
    "    rectangle = Rectangle(4, 7)\n",
    "    print(f\"Rectangle area: {rectangle.calculate_area()}\")\n",
    "\n",
    "    triangle = Triangle(6, 3)\n",
    "    print(f\"Triangle area: {triangle.calculate_area()}\")\n"
   ]
  },
  {
   "cell_type": "code",
   "execution_count": 4,
   "id": "e27349f5-603e-45e7-b528-7955a8287f02",
   "metadata": {},
   "outputs": [
    {
     "name": "stdout",
     "output_type": "stream",
     "text": [
      "The Dog goes 'woof'\n",
      "The Cat goes 'meow'\n",
      "The Cow goes 'moo'\n"
     ]
    }
   ],
   "source": [
    "#question 10\n",
    "class Animal:\n",
    "    def __init__(self, name, sound):\n",
    "        self.name = name\n",
    "        self.sound = sound\n",
    "\n",
    "    def make_sound(self):\n",
    "        return f\"The {self.name} goes '{self.sound}'\"\n",
    "class Dog(Animal):\n",
    "    def __init__(self):\n",
    "        super().__init__(\"Dog\", \"woof\")\n",
    "class Cat(Animal):\n",
    "    def __init__(self):\n",
    "        super().__init__(\"Cat\", \"meow\")\n",
    "class Cow(Animal):\n",
    "    def __init__(self):\n",
    "        super().__init__(\"Cow\", \"moo\")\n",
    "if __name__ == \"__main__\":\n",
    "    dog = Dog()\n",
    "    print(dog.make_sound())\n",
    "\n",
    "    cat = Cat()\n",
    "    print(cat.make_sound())\n",
    "\n",
    "    cow = Cow()\n",
    "    print(cow.make_sound())\n"
   ]
  },
  {
   "cell_type": "code",
   "execution_count": null,
   "id": "b5a47789-4ced-4fb6-b35c-4448b69109cd",
   "metadata": {},
   "outputs": [],
   "source": []
  }
 ],
 "metadata": {
  "kernelspec": {
   "display_name": "Python 3 (ipykernel)",
   "language": "python",
   "name": "python3"
  },
  "language_info": {
   "codemirror_mode": {
    "name": "ipython",
    "version": 3
   },
   "file_extension": ".py",
   "mimetype": "text/x-python",
   "name": "python",
   "nbconvert_exporter": "python",
   "pygments_lexer": "ipython3",
   "version": "3.12.4"
  }
 },
 "nbformat": 4,
 "nbformat_minor": 5
}
